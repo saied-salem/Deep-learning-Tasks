{
 "cells": [
  {
   "cell_type": "markdown",
   "metadata": {},
   "source": [
    "# Convolutional Neural Networks: Application\n",
    "\n",
    "Welcome to Course 4's second assignment! In this notebook, you will:\n",
    "\n",
    "- Create a mood classifer using the TF Keras Sequential API\n",
    "- Build a ConvNet to identify sign language digits using the TF Keras Functional API\n",
    "\n",
    "**After this assignment you will be able to:**\n",
    "\n",
    "- Build and train a ConvNet in TensorFlow for a __binary__ classification problem\n",
    "- Build and train a ConvNet in TensorFlow for a __multiclass__ classification problem\n",
    "- Explain different use cases for the Sequential and Functional APIs\n",
    "\n",
    "To complete this assignment, you should already be familiar with TensorFlow. If you are not, please refer back to the **TensorFlow Tutorial** of the third week of Course 2 (\"**Improving deep neural networks**\")."
   ]
  },
  {
   "cell_type": "markdown",
   "metadata": {},
   "source": [
    "## Table of Contents\n",
    "\n",
    "- [1 - Packages](#1)\n",
    "    - [1.1 - Load the Data and Split the Data into Train/Test Sets](#1-1)\n",
    "- [2 - Layers in TF Keras](#2)\n",
    "- [3 - The Sequential API](#3)\n",
    "    - [3.1 - Create the Sequential Model](#3-1)\n",
    "        - [Exercise 1 - happyModel](#ex-1)\n",
    "    - [3.2 - Train and Evaluate the Model](#3-2)\n",
    "- [4 - The Functional API](#4)\n",
    "    - [4.1 - Load the SIGNS Dataset](#4-1)\n",
    "    - [4.2 - Split the Data into Train/Test Sets](#4-2)\n",
    "    - [4.3 - Forward Propagation](#4-3)\n",
    "        - [Exercise 2 - convolutional_model](#ex-2)\n",
    "    - [4.4 - Train the Model](#4-4)\n",
    "- [5 - History Object](#5)\n",
    "- [6 - Bibliography](#6)"
   ]
  },
  {
   "cell_type": "markdown",
   "metadata": {},
   "source": [
    "<a name='1'></a>\n",
    "## 1 - Packages\n",
    "\n",
    "As usual, begin by loading in the packages."
   ]
  },
  {
   "cell_type": "code",
   "execution_count": 1,
   "metadata": {},
   "outputs": [],
   "source": [
    "import math\n",
    "import numpy as np\n",
    "import h5py\n",
    "import matplotlib.pyplot as plt\n",
    "from matplotlib.pyplot import imread\n",
    "import scipy\n",
    "from PIL import Image\n",
    "import pandas as pd\n",
    "import tensorflow as tf\n",
    "import tensorflow.keras.layers as tfl\n",
    "from tensorflow.python.framework import ops\n",
    "from cnn_utils import *\n",
    "from test_utils import summary, comparator\n",
    "\n",
    "%matplotlib inline\n",
    "np.random.seed(1)"
   ]
  },
  {
   "cell_type": "markdown",
   "metadata": {},
   "source": [
    "<a name='1-1'></a>\n",
    "### 1.1 - Load the Data and Split the Data into Train/Test Sets\n",
    "\n",
    "You'll be using the Happy House dataset for this part of the assignment, which contains images of peoples' faces. Your task will be to build a ConvNet that determines whether the people in the images are smiling or not -- because they only get to enter the house if they're smiling!  "
   ]
  },
  {
   "cell_type": "code",
   "execution_count": 2,
   "metadata": {},
   "outputs": [
    {
     "name": "stdout",
     "output_type": "stream",
     "text": [
      "number of training examples = 600\n",
      "number of test examples = 150\n",
      "X_train shape: (600, 64, 64, 3)\n",
      "Y_train shape: (600, 1)\n",
      "X_test shape: (150, 64, 64, 3)\n",
      "Y_test shape: (150, 1)\n"
     ]
    }
   ],
   "source": [
    "X_train_orig, Y_train_orig, X_test_orig, Y_test_orig, classes = load_happy_dataset()\n",
    "\n",
    "# Normalize image vectors\n",
    "X_train = X_train_orig/255.\n",
    "X_test = X_test_orig/255.\n",
    "\n",
    "# Reshape\n",
    "Y_train = Y_train_orig.T\n",
    "Y_test = Y_test_orig.T\n",
    "\n",
    "print (\"number of training examples = \" + str(X_train.shape[0]))\n",
    "print (\"number of test examples = \" + str(X_test.shape[0]))\n",
    "print (\"X_train shape: \" + str(X_train.shape))\n",
    "print (\"Y_train shape: \" + str(Y_train.shape))\n",
    "print (\"X_test shape: \" + str(X_test.shape))\n",
    "print (\"Y_test shape: \" + str(Y_test.shape))"
   ]
  },
  {
   "cell_type": "markdown",
   "metadata": {},
   "source": [
    "You can display the images contained in the dataset. Images are **64x64** pixels in RGB format (3 channels)."
   ]
  },
  {
   "cell_type": "code",
   "execution_count": 3,
   "metadata": {},
   "outputs": [
    {
     "data": {
      "image/png": "[encoded data removed]",
      "text/plain": [
       "<Figure size 432x288 with 1 Axes>"
      ]
     },
     "metadata": {
      "needs_background": "light"
     },
     "output_type": "display_data"
    }
   ],
   "source": [
    "index = 189\n",
    "plt.imshow(X_train_orig[index]) #display sample training image\n",
    "plt.show()"
   ]
  },
  {
   "cell_type": "markdown",
   "metadata": {},
   "source": [
    "<a name='2'></a>\n",
    "## 2 - Layers in TF Keras \n",
    "\n",
    "In the previous assignment, you created layers manually in numpy. In TF Keras, you don't have to write code directly to create layers. Rather, TF Keras has pre-defined layers you can use. \n",
    "\n",
    "When you create a layer in TF Keras, you are creating a function that takes some input and transforms it into an output you can reuse later. Nice and easy! "
   ]
  },
  {
   "cell_type": "markdown",
   "metadata": {},
   "source": [
    "<a name='3'></a>\n",
    "## 3 - The Sequential API\n",
    "\n",
    "In the previous assignment, you built helper functions using `numpy` to understand the mechanics behind convolutional neural networks. Most practical applications of deep learning today are built using programming frameworks, which have many built-in functions you can simply call. Keras is a high-level abstraction built on top of TensorFlow, which allows for even more simplified and optimized model creation and training. \n",
    "\n",
    "For the first part of this assignment, you'll create a model using TF Keras' Sequential API, which allows you to build layer by layer, and is ideal for building models where each layer has **exactly one** input tensor and **one** output tensor. \n",
    "\n",
    "As you'll see, using the Sequential API is simple and straightforward, but is only appropriate for simpler, more straightforward tasks. Later in this notebook you'll spend some time building with a more flexible, powerful alternative: the Functional API. \n",
    " "
   ]
  },
  {
   "cell_type": "markdown",
   "metadata": {},
   "source": [
    "<a name='3-1'></a>\n",
    "### 3.1 - Create the Sequential Model\n",
    "\n",
    "As mentioned earlier, the TensorFlow Keras Sequential API can be used to build simple models with layer operations that proceed in a sequential order. \n",
    "\n",
    "You can also add layers incrementally to a Sequential model with the `.add()` method, or remove them using the `.pop()` method, much like you would in a regular Python list.\n",
    "\n",
    "Actually, you can think of a Sequential model as behaving like a list of layers. Like Python lists, Sequential layers are ordered, and the order in which they are specified matters.  If your model is non-linear or contains layers with multiple inputs or outputs, a Sequential model wouldn't be the right choice!\n",
    "\n",
    "For any layer construction in Keras, you'll need to specify the input shape in advance. This is because in Keras, the shape of the weights is based on the shape of the inputs. The weights are only created when the model first sees some input data. Sequential models can be created by passing a list of layers to the Sequential constructor, like you will do in the next assignment.\n",
    "\n",
    "<a name='ex-1'></a>\n",
    "### Exercise 1 - happyModel\n",
    "\n",
    "Implement the `happyModel` function below to build the following model: `ZEROPAD2D -> CONV2D -> BATCHNORM -> RELU -> MAXPOOL -> FLATTEN -> DENSE`. Take help from [tf.keras.layers](https://www.tensorflow.org/api_docs/python/tf/keras/layers) \n",
    "\n",
    "Also, plug in the following parameters for all the steps:\n",
    "\n",
    " - [ZeroPadding2D](https://www.tensorflow.org/api_docs/python/tf/keras/layers/ZeroPadding2D): padding 3, input shape 64 x 64 x 3\n",
    " - [Conv2D](https://www.tensorflow.org/api_docs/python/tf/keras/layers/Conv2D): Use 32 7x7 filters, stride 1\n",
    " - [BatchNormalization](https://www.tensorflow.org/api_docs/python/tf/keras/layers/BatchNormalization): for axis 3\n",
    " - [ReLU](https://www.tensorflow.org/api_docs/python/tf/keras/layers/ReLU)\n",
    " - [MaxPool2D](https://www.tensorflow.org/api_docs/python/tf/keras/layers/MaxPool2D): Using default parameters\n",
    " - [Flatten](https://www.tensorflow.org/api_docs/python/tf/keras/layers/Flatten) the previous output.\n",
    " - Fully-connected ([Dense](https://www.tensorflow.org/api_docs/python/tf/keras/layers/Dense)) layer: Apply a fully connected layer with 1 neuron and a sigmoid activation. \n",
    " \n",
    " \n",
    " **Hint:**\n",
    " \n",
    " Use **tfl** as shorthand for **tensorflow.keras.layers**"
   ]
  },
  {
   "cell_type": "code",
   "execution_count": 4,
   "metadata": {
    "deletable": false,
    "nbgrader": {
     "cell_type": "code",
     "checksum": "95d28b191f257bdd5b70c7b8952559d5",
     "grade": false,
     "grade_id": "cell-0e56d3fc28b69aec",
     "locked": false,
     "schema_version": 3,
     "solution": true,
     "task": false
    }
   },
   "outputs": [],
   "source": [
    "# GRADED FUNCTION: happyModel\n",
    "\n",
    "def happyModel():\n",
    "    \"\"\"\n",
    "    Implements the forward propagation for the binary classification model:\n",
    "    ZEROPAD2D -> CONV2D -> BATCHNORM -> RELU -> MAXPOOL -> FLATTEN -> DENSE\n",
    "    \n",
    "    Note that for simplicity and grading purposes, you'll hard-code all the values\n",
    "    such as the stride and kernel (filter) sizes. \n",
    "    Normally, functions should take these values as function parameters.\n",
    "    \n",
    "    Arguments:\n",
    "    None\n",
    "\n",
    "    Returns:\n",
    "    model -- TF Keras model (object containing the information for the entire training process) \n",
    "    \"\"\"\n",
    "    model = tf.keras.Sequential(\n",
    "        [\n",
    "            ## ZeroPadding2D with padding 3, input shape of 64 x 64 x 3\n",
    "            \n",
    "            ## Conv2D with 32 7x7 filters and stride of 1\n",
    "            \n",
    "            ## BatchNormalization for axis 3\n",
    "            \n",
    "            ## ReLU\n",
    "            \n",
    "            ## Max Pooling 2D with default parameters\n",
    "            \n",
    "            ## Flatten layer\n",
    "            \n",
    "            ## Dense layer with 1 unit for output & 'sigmoid' activation\n",
    "            \n",
    "            # YOUR CODE STARTS HERE\n",
    "            tfl.InputLayer(input_shape=(64,64,3)),\n",
    "            tfl.ZeroPadding2D(padding=3),\n",
    "            tfl.Conv2D(32 , (7,7),strides = 1),\n",
    "            tfl.BatchNormalization(axis = 3),\n",
    "            tfl.ReLU(),\n",
    "            tfl.MaxPool2D(),\n",
    "            tfl.Flatten(),\n",
    "            tfl.Dense(1,activation='sigmoid'),\n",
    "\n",
    "            \n",
    "            # YOUR CODE ENDS HERE\n",
    "        ])\n",
    "    \n",
    "    return model"
   ]
  },
  {
   "cell_type": "code",
   "execution_count": 5,
   "metadata": {
    "deletable": false,
    "editable": false,
    "nbgrader": {
     "cell_type": "code",
     "checksum": "8d3575c950e2e78149be2d05d671c80d",
     "grade": true,
     "grade_id": "cell-e3e1046e5c33d775",
     "locked": true,
     "points": 10,
     "schema_version": 3,
     "solution": false,
     "task": false
    }
   },
   "outputs": [
    {
     "name": "stdout",
     "output_type": "stream",
     "text": [
      "['ZeroPadding2D', (None, 70, 70, 3), 0, ((3, 3), (3, 3))]\n",
      "['Conv2D', (None, 64, 64, 32), 4736, 'valid', 'linear', 'GlorotUniform']\n",
      "['BatchNormalization', (None, 64, 64, 32), 128]\n",
      "['ReLU', (None, 64, 64, 32), 0]\n",
      "['MaxPooling2D', (None, 32, 32, 32), 0, (2, 2), (2, 2), 'valid']\n",
      "['Flatten', (None, 32768), 0]\n",
      "['Dense', (None, 1), 32769, 'sigmoid']\n",
      "\u001b[32mAll tests passed!\u001b[0m\n"
     ]
    }
   ],
   "source": [
    "happy_model = happyModel()\n",
    "# Print a summary for each layer\n",
    "for layer in summary(happy_model):\n",
    "    print(layer)\n",
    "    \n",
    "output = [['ZeroPadding2D', (None, 70, 70, 3), 0, ((3, 3), (3, 3))],\n",
    "            ['Conv2D', (None, 64, 64, 32), 4736, 'valid', 'linear', 'GlorotUniform'],\n",
    "            ['BatchNormalization', (None, 64, 64, 32), 128],\n",
    "            ['ReLU', (None, 64, 64, 32), 0],\n",
    "            ['MaxPooling2D', (None, 32, 32, 32), 0, (2, 2), (2, 2), 'valid'],\n",
    "            ['Flatten', (None, 32768), 0],\n",
    "            ['Dense', (None, 1), 32769, 'sigmoid']]\n",
    "    \n",
    "comparator(summary(happy_model), output)"
   ]
  },
  {
   "cell_type": "markdown",
   "metadata": {},
   "source": [
    "Now that your model is created, you can compile it for training with an optimizer and loss of your choice. When the string `accuracy` is specified as a metric, the type of accuracy used will be automatically converted based on the loss function used. This is one of the many optimizations built into TensorFlow that make your life easier! If you'd like to read more on how the compiler operates, check the docs [here](https://www.tensorflow.org/api_docs/python/tf/keras/Model#compile)."
   ]
  },
  {
   "cell_type": "code",
   "execution_count": 6,
   "metadata": {},
   "outputs": [],
   "source": [
    "happy_model.compile(optimizer='adam',\n",
    "                   loss='binary_crossentropy',\n",
    "                   metrics=['accuracy'])"
   ]
  },
  {
   "cell_type": "markdown",
   "metadata": {},
   "source": [
    "It's time to check your model's parameters with the `.summary()` method. This will display the types of layers you have, the shape of the outputs, and how many parameters are in each layer. "
   ]
  },
  {
   "cell_type": "code",
   "execution_count": 7,
   "metadata": {},
   "outputs": [
    {
     "name": "stdout",
     "output_type": "stream",
     "text": [
      "Model: \"sequential\"\n",
      "_________________________________________________________________\n",
      "Layer (type)                 Output Shape              Param #   \n",
      "=================================================================\n",
      "zero_padding2d (ZeroPadding2 (None, 70, 70, 3)         0         \n",
      "_________________________________________________________________\n",
      "conv2d (Conv2D)              (None, 64, 64, 32)        4736      \n",
      "_________________________________________________________________\n",
      "batch_normalization (BatchNo (None, 64, 64, 32)        128       \n",
      "_________________________________________________________________\n",
      "re_lu (ReLU)                 (None, 64, 64, 32)        0         \n",
      "_________________________________________________________________\n",
      "max_pooling2d (MaxPooling2D) (None, 32, 32, 32)        0         \n",
      "_________________________________________________________________\n",
      "flatten (Flatten)            (None, 32768)             0         \n",
      "_________________________________________________________________\n",
      "dense (Dense)                (None, 1)                 32769     \n",
      "=================================================================\n",
      "Total params: 37,633\n",
      "Trainable params: 37,569\n",
      "Non-trainable params: 64\n",
      "_________________________________________________________________\n"
     ]
    }
   ],
   "source": [
    "happy_model.summary()"
   ]
  },
  {
   "cell_type": "markdown",
   "metadata": {},
   "source": [
    "<a name='3-2'></a>\n",
    "### 3.2 - Train and Evaluate the Model\n",
    "\n",
    "After creating the model, compiling it with your choice of optimizer and loss function, and doing a sanity check on its contents, you are now ready to build! \n",
    "\n",
    "Simply call `.fit()` to train. That's it! No need for mini-batching, saving, or complex backpropagation computations. That's all been done for you, as you're using a TensorFlow dataset with the batches specified already. You do have the option to specify epoch number or minibatch size if you like (for example, in the case of an un-batched dataset)."
   ]
  },
  {
   "cell_type": "code",
   "execution_count": 8,
   "metadata": {
    "scrolled": true
   },
   "outputs": [
    {
     "name": "stdout",
     "output_type": "stream",
     "text": [
      "Epoch 1/10\n",
      "38/38 [==============================] - 4s 95ms/step - loss: 1.7037 - accuracy: 0.6467\n",
      "Epoch 2/10\n",
      "38/38 [==============================] - 3s 89ms/step - loss: 0.2344 - accuracy: 0.8933\n",
      "Epoch 3/10\n",
      "38/38 [==============================] - 3s 87ms/step - loss: 0.1466 - accuracy: 0.9450\n",
      "Epoch 4/10\n",
      "38/38 [==============================] - 3s 87ms/step - loss: 0.1331 - accuracy: 0.9450\n",
      "Epoch 5/10\n",
      "38/38 [==============================] - 3s 89ms/step - loss: 0.1284 - accuracy: 0.9517\n",
      "Epoch 6/10\n",
      "38/38 [==============================] - 3s 87ms/step - loss: 0.1088 - accuracy: 0.9600\n",
      "Epoch 7/10\n",
      "38/38 [==============================] - 3s 87ms/step - loss: 0.0906 - accuracy: 0.9650\n",
      "Epoch 8/10\n",
      "38/38 [==============================] - 3s 89ms/step - loss: 0.2806 - accuracy: 0.9000\n",
      "Epoch 9/10\n",
      "38/38 [==============================] - 3s 87ms/step - loss: 0.1183 - accuracy: 0.9500\n",
      "Epoch 10/10\n",
      "38/38 [==============================] - 3s 89ms/step - loss: 0.1093 - accuracy: 0.9567\n"
     ]
    },
    {
     "data": {
      "text/plain": [
       "<tensorflow.python.keras.callbacks.History at 0x7efcc14769d0>"
      ]
     },
     "execution_count": 8,
     "metadata": {},
     "output_type": "execute_result"
    }
   ],
   "source": [
    "happy_model.fit(X_train, Y_train, epochs=10, batch_size=16)"
   ]
  },
  {
   "cell_type": "markdown",
   "metadata": {},
   "source": [
    "After that completes, just use `.evaluate()` to evaluate against your test set. This function will print the value of the loss function and the performance metrics specified during the compilation of the model. In this case, the `binary_crossentropy` and the `accuracy` respectively."
   ]
  },
  {
   "cell_type": "code",
   "execution_count": 9,
   "metadata": {},
   "outputs": [
    {
     "name": "stdout",
     "output_type": "stream",
     "text": [
      "5/5 [==============================] - 0s 31ms/step - loss: 0.1619 - accuracy: 0.9333\n"
     ]
    },
    {
     "data": {
      "text/plain": [
       "[0.16190211474895477, 0.9333333373069763]"
      ]
     },
     "execution_count": 9,
     "metadata": {},
     "output_type": "execute_result"
    }
   ],
   "source": [
    "happy_model.evaluate(X_test, Y_test)"
   ]
  },
  {
   "cell_type": "markdown",
   "metadata": {},
   "source": [
    "Easy, right? But what if you need to build a model with shared layers, branches, or multiple inputs and outputs? This is where Sequential, with its beautifully simple yet limited functionality, won't be able to help you. \n",
    "\n",
    "Next up: Enter the Functional API, your slightly more complex, highly flexible friend.  "
   ]
  },
  {
   "cell_type": "markdown",
   "metadata": {},
   "source": [
    "<a name='4'></a>\n",
    "## 4 - The Functional API"
   ]
  },
  {
   "cell_type": "markdown",
   "metadata": {},
   "source": [
    "Welcome to the second half of the assignment, where you'll use Keras' flexible [Functional API](https://www.tensorflow.org/guide/keras/functional) to build a ConvNet that can differentiate between 6 sign language digits. \n",
    "\n",
    "The Functional API can handle models with non-linear topology, shared layers, as well as layers with multiple inputs or outputs. Imagine that, where the Sequential API requires the model to move in a linear fashion through its layers, the Functional API allows much more flexibility. Where Sequential is a straight line, a Functional model is a graph, where the nodes of the layers can connect in many more ways than one. \n",
    "\n",
    "In the visual example below, the one possible direction of the movement Sequential model is shown in contrast to a skip connection, which is just one of the many ways a Functional model can be constructed. A skip connection, as you might have guessed, skips some layer in the network and feeds the output to a later layer in the network. Don't worry, you'll be spending more time with skip connections very soon! "
   ]
  },
  {
   "cell_type": "markdown",
   "metadata": {},
   "source": [
    "<img src=\"images/seq_vs_func.png\" style=\"width:350px;height:200px;\">"
   ]
  },
  {
   "cell_type": "markdown",
   "metadata": {},
   "source": [
    "<a name='4-1'></a>\n",
    "### 4.1 - Load the SIGNS Dataset\n",
    "\n",
    "As a reminder, the SIGNS dataset is a collection of 6 signs representing numbers from 0 to 5."
   ]
  },
  {
   "cell_type": "code",
   "execution_count": 10,
   "metadata": {},
   "outputs": [],
   "source": [
    "# Loading the data (signs)\n",
    "X_train_orig, Y_train_orig, X_test_orig, Y_test_orig, classes = load_signs_dataset()"
   ]
  },
  {
   "cell_type": "markdown",
   "metadata": {},
   "source": [
    "<img src=\"images/SIGNS.png\" style=\"width:800px;height:300px;\">\n",
    "\n",
    "The next cell will show you an example of a labelled image in the dataset. Feel free to change the value of `index` below and re-run to see different examples. "
   ]
  },
  {
   "cell_type": "code",
   "execution_count": 11,
   "metadata": {},
   "outputs": [
    {
     "name": "stdout",
     "output_type": "stream",
     "text": [
      "y = 4\n"
     ]
    },
    {
     "data": {
      "image/png": "[encoded data removed]",
      "text/plain": [
       "<Figure size 432x288 with 1 Axes>"
      ]
     },
     "metadata": {
      "needs_background": "light"
     },
     "output_type": "display_data"
    }
   ],
   "source": [
    "# Example of an image from the dataset\n",
    "index = 9\n",
    "plt.imshow(X_train_orig[index])\n",
    "print (\"y = \" + str(np.squeeze(Y_train_orig[:, index])))"
   ]
  },
  {
   "cell_type": "markdown",
   "metadata": {},
   "source": [
    "<a name='4-2'></a>\n",
    "### 4.2 - Split the Data into Train/Test Sets\n",
    "\n",
    "In Course 2, you built a fully-connected network for this dataset. But since this is an image dataset, it is more natural to apply a ConvNet to it.\n",
    "\n",
    "To get started, let's examine the shapes of your data. "
   ]
  },
  {
   "cell_type": "code",
   "execution_count": 12,
   "metadata": {},
   "outputs": [
    {
     "name": "stdout",
     "output_type": "stream",
     "text": [
      "number of training examples = 1080\n",
      "number of test examples = 120\n",
      "X_train shape: (1080, 64, 64, 3)\n",
      "Y_train shape: (1080, 6)\n",
      "X_test shape: (120, 64, 64, 3)\n",
      "Y_test shape: (120, 6)\n"
     ]
    }
   ],
   "source": [
    "X_train = X_train_orig/255.\n",
    "X_test = X_test_orig/255.\n",
    "Y_train = convert_to_one_hot(Y_train_orig, 6).T\n",
    "Y_test = convert_to_one_hot(Y_test_orig, 6).T\n",
    "print (\"number of training examples = \" + str(X_train.shape[0]))\n",
    "print (\"number of test examples = \" + str(X_test.shape[0]))\n",
    "print (\"X_train shape: \" + str(X_train.shape))\n",
    "print (\"Y_train shape: \" + str(Y_train.shape))\n",
    "print (\"X_test shape: \" + str(X_test.shape))\n",
    "print (\"Y_test shape: \" + str(Y_test.shape))"
   ]
  },
  {
   "cell_type": "markdown",
   "metadata": {},
   "source": [
    "<a name='4-3'></a>\n",
    "### 4.3 - Forward Propagation\n",
    "\n",
    "In TensorFlow, there are built-in functions that implement the convolution steps for you. By now, you should be familiar with how TensorFlow builds computational graphs. In the [Functional API](https://www.tensorflow.org/guide/keras/functional), you create a graph of layers. This is what allows such great flexibility.\n",
    "\n",
    "However, the following model could also be defined using the Sequential API since the information flow is on a single line. But don't deviate. What we want you to learn is to use the functional API.\n",
    "\n",
    "Begin building your graph of layers by creating an input node that functions as a callable object:\n",
    "\n",
    "- **input_img = tf.keras.Input(shape=input_shape):** \n",
    "\n",
    "Then, create a new node in the graph of layers by calling a layer on the `input_img` object: \n",
    "\n",
    "- **tf.keras.layers.Conv2D(filters= ... , kernel_size= ... , padding='same')(input_img):** Read the full documentation on [Conv2D](https://www.tensorflow.org/api_docs/python/tf/keras/layers/Conv2D).\n",
    "\n",
    "- **tf.keras.layers.MaxPool2D(pool_size=(f, f), strides=(s, s), padding='same'):** `MaxPool2D()` downsamples your input using a window of size (f, f) and strides of size (s, s) to carry out max pooling over each window.  For max pooling, you usually operate on a single example at a time and a single channel at a time. Read the full documentation on [MaxPool2D](https://www.tensorflow.org/api_docs/python/tf/keras/layers/MaxPool2D).\n",
    "\n",
    "- **tf.keras.layers.ReLU():** computes the elementwise ReLU of Z (which can be any shape). You can read the full documentation on [ReLU](https://www.tensorflow.org/api_docs/python/tf/keras/layers/ReLU).\n",
    "\n",
    "- **tf.keras.layers.Flatten()**: given a tensor \"P\", this function takes each training (or test) example in the batch and flattens it into a 1D vector.  \n",
    "\n",
    "    * If a tensor P has the shape (batch_size,h,w,c), it returns a flattened tensor with shape (batch_size, k), where $k=h \\times w \\times c$.  \"k\" equals the product of all the dimension sizes other than the first dimension.\n",
    "    \n",
    "    * For example, given a tensor with dimensions [100, 2, 3, 4], it flattens the tensor to be of shape [100, 24], where 24 = 2 * 3 * 4.  You can read the full documentation on [Flatten](https://www.tensorflow.org/api_docs/python/tf/keras/layers/Flatten).\n",
    "\n",
    "- **tf.keras.layers.Dense(units= ... , activation='softmax')(F):** given the flattened input F, it returns the output computed using a fully connected layer. You can read the full documentation on [Dense](https://www.tensorflow.org/api_docs/python/tf/keras/layers/Dense).\n",
    "\n",
    "In the last function above (`tf.keras.layers.Dense()`), the fully connected layer automatically initializes weights in the graph and keeps on training them as you train the model. Hence, you did not need to initialize those weights when initializing the parameters.\n",
    "\n",
    "Lastly, before creating the model, you'll need to define the output using the last of the function's compositions (in this example, a Dense layer): \n",
    "\n",
    "- **outputs = tf.keras.layers.Dense(units=6, activation='softmax')(F)**\n",
    "\n",
    "\n",
    "#### Window, kernel, filter, pool\n",
    "\n",
    "The words \"kernel\" and \"filter\" are used to refer to the same thing. The word \"filter\" accounts for the amount of \"kernels\" that will be used in a single convolution layer. \"Pool\" is the name of the operation that takes the max or average value of the kernels. \n",
    "\n",
    "This is why the parameter `pool_size` refers to `kernel_size`, and you use `(f,f)` to refer to the filter size. \n",
    "\n",
    "Pool size and kernel size refer to the same thing in different objects - They refer to the shape of the window where the operation takes place. "
   ]
  },
  {
   "cell_type": "markdown",
   "metadata": {},
   "source": [
    "<a name='ex-2'></a>\n",
    "### Exercise 2 - convolutional_model\n",
    "\n",
    "Implement the `convolutional_model` function below to build the following model: `CONV2D -> RELU -> MAXPOOL -> CONV2D -> RELU -> MAXPOOL -> FLATTEN -> DENSE`. Use the functions above! \n",
    "\n",
    "Also, plug in the following parameters for all the steps:\n",
    "\n",
    " - [Conv2D](https://www.tensorflow.org/api_docs/python/tf/keras/layers/Conv2D): Use 8 4 by 4 filters, stride 1, padding is \"SAME\"\n",
    " - [ReLU](https://www.tensorflow.org/api_docs/python/tf/keras/layers/ReLU)\n",
    " - [MaxPool2D](https://www.tensorflow.org/api_docs/python/tf/keras/layers/MaxPool2D): Use an 8 by 8 filter size and an 8 by 8 stride, padding is \"SAME\"\n",
    " - **Conv2D**: Use 16 2 by 2 filters, stride 1, padding is \"SAME\"\n",
    " - **ReLU**\n",
    " - **MaxPool2D**: Use a 4 by 4 filter size and a 4 by 4 stride, padding is \"SAME\"\n",
    " - [Flatten](https://www.tensorflow.org/api_docs/python/tf/keras/layers/Flatten) the previous output.\n",
    " - Fully-connected ([Dense](https://www.tensorflow.org/api_docs/python/tf/keras/layers/Dense)) layer: Apply a fully connected layer with 6 neurons and a softmax activation. "
   ]
  },
  {
   "cell_type": "code",
   "execution_count": 13,
   "metadata": {
    "deletable": false,
    "nbgrader": {
     "cell_type": "code",
     "checksum": "f58643806aa8380c96225fc8b4c5e7aa",
     "grade": false,
     "grade_id": "cell-dac51744a9e03f51",
     "locked": false,
     "schema_version": 3,
     "solution": true,
     "task": false
    }
   },
   "outputs": [],
   "source": [
    "# GRADED FUNCTION: convolutional_model\n",
    "\n",
    "def convolutional_model(input_shape):\n",
    "    \"\"\"\n",
    "    Implements the forward propagation for the model:\n",
    "    CONV2D -> RELU -> MAXPOOL -> CONV2D -> RELU -> MAXPOOL -> FLATTEN -> DENSE\n",
    "    \n",
    "    Note that for simplicity and grading purposes, you'll hard-code some values\n",
    "    such as the stride and kernel (filter) sizes. \n",
    "    Normally, functions should take these values as function parameters.\n",
    "    \n",
    "    Arguments:\n",
    "    input_img -- input dataset, of shape (input_shape)\n",
    "\n",
    "    Returns:\n",
    "    model -- TF Keras model (object containing the information for the entire training process) \n",
    "    \"\"\"\n",
    "    print(input_shape)\n",
    "    input_img = tf.keras.Input(shape=input_shape)\n",
    "    ## CONV2D: 8 filters 4x4, stride of 1, padding 'SAME'\n",
    "    # Z1 = None\n",
    "    ## RELU\n",
    "    # A1 = None\n",
    "    ## MAXPOOL: window 8x8, stride 8, padding 'SAME'\n",
    "    # P1 = None\n",
    "    ## CONV2D: 16 filters 2x2, stride 1, padding 'SAME'\n",
    "    # Z2 = None\n",
    "    ## RELU\n",
    "    # A2 = None\n",
    "    ## MAXPOOL: window 4x4, stride 4, padding 'SAME'\n",
    "    # P2 = None\n",
    "    ## FLATTEN\n",
    "    # F = None\n",
    "    ## Dense layer\n",
    "    ## 6 neurons in output layer. Hint: one of the arguments should be \"activation='softmax'\" \n",
    "    # outputs = None\n",
    "    # YOUR CODE STARTS HERE\n",
    "    Z1 = tfl.Conv2D(8,(4,4), strides =1, padding= 'same')(input_img) \n",
    "    A1 = tfl.ReLU()(Z1)\n",
    "    P1 = tfl.MaxPool2D((8,8),strides=8,padding= 'same')(A1)\n",
    "    Z2 = tfl.Conv2D(16,(2,2),strides =1,padding= 'same')(P1)\n",
    "    A2 = tfl.ReLU()(Z2)\n",
    "    P2 = tfl.MaxPool2D((4,4),strides =4,padding= 'same')(A2)\n",
    "    F  = tfl.Flatten()(P2)\n",
    "    outputs = tfl.Dense(6,activation= 'softmax')(F)\n",
    "    \n",
    "    # YOUR CODE ENDS HERE\n",
    "    model = tf.keras.Model(inputs=input_img, outputs=outputs)\n",
    "    return model"
   ]
  },
  {
   "cell_type": "code",
   "execution_count": 14,
   "metadata": {
    "deletable": false,
    "editable": false,
    "nbgrader": {
     "cell_type": "code",
     "checksum": "483d626949930a0b0ef20997e7c6ba72",
     "grade": true,
     "grade_id": "cell-45d22e92042174c9",
     "locked": true,
     "points": 10,
     "schema_version": 3,
     "solution": false,
     "task": false
    }
   },
   "outputs": [
    {
     "name": "stdout",
     "output_type": "stream",
     "text": [
      "(64, 64, 3)\n",
      "Model: \"functional_1\"\n",
      "_________________________________________________________________\n",
      "Layer (type)                 Output Shape              Param #   \n",
      "=================================================================\n",
      "input_2 (InputLayer)         [(None, 64, 64, 3)]       0         \n",
      "_________________________________________________________________\n",
      "conv2d_1 (Conv2D)            (None, 64, 64, 8)         392       \n",
      "_________________________________________________________________\n",
      "re_lu_1 (ReLU)               (None, 64, 64, 8)         0         \n",
      "_________________________________________________________________\n",
      "max_pooling2d_1 (MaxPooling2 (None, 8, 8, 8)           0         \n",
      "_________________________________________________________________\n",
      "conv2d_2 (Conv2D)            (None, 8, 8, 16)          528       \n",
      "_________________________________________________________________\n",
      "re_lu_2 (ReLU)               (None, 8, 8, 16)          0         \n",
      "_________________________________________________________________\n",
      "max_pooling2d_2 (MaxPooling2 (None, 2, 2, 16)          0         \n",
      "_________________________________________________________________\n",
      "flatten_1 (Flatten)          (None, 64)                0         \n",
      "_________________________________________________________________\n",
      "dense_1 (Dense)              (None, 6)                 390       \n",
      "=================================================================\n",
      "Total params: 1,310\n",
      "Trainable params: 1,310\n",
      "Non-trainable params: 0\n",
      "_________________________________________________________________\n",
      "\u001b[32mAll tests passed!\u001b[0m\n"
     ]
    }
   ],
   "source": [
    "conv_model = convolutional_model((64, 64, 3))\n",
    "conv_model.compile(optimizer='adam',\n",
    "                  loss='categorical_crossentropy',\n",
    "                  metrics=['accuracy'])\n",
    "conv_model.summary()\n",
    "    \n",
    "output = [['InputLayer', [(None, 64, 64, 3)], 0],\n",
    "        ['Conv2D', (None, 64, 64, 8), 392, 'same', 'linear', 'GlorotUniform'],\n",
    "        ['ReLU', (None, 64, 64, 8), 0],\n",
    "        ['MaxPooling2D', (None, 8, 8, 8), 0, (8, 8), (8, 8), 'same'],\n",
    "        ['Conv2D', (None, 8, 8, 16), 528, 'same', 'linear', 'GlorotUniform'],\n",
    "        ['ReLU', (None, 8, 8, 16), 0],\n",
    "        ['MaxPooling2D', (None, 2, 2, 16), 0, (4, 4), (4, 4), 'same'],\n",
    "        ['Flatten', (None, 64), 0],\n",
    "        ['Dense', (None, 6), 390, 'softmax']]\n",
    "    \n",
    "comparator(summary(conv_model), output)"
   ]
  },
  {
   "cell_type": "markdown",
   "metadata": {},
   "source": [
    "Both the Sequential and Functional APIs return a TF Keras model object. The only difference is how inputs are handled inside the object model! "
   ]
  },
  {
   "cell_type": "markdown",
   "metadata": {},
   "source": [
    "<a name='4-4'></a>\n",
    "### 4.4 - Train the Model"
   ]
  },
  {
   "cell_type": "code",
   "execution_count": 15,
   "metadata": {
    "scrolled": true
   },
   "outputs": [
    {
     "name": "stdout",
     "output_type": "stream",
     "text": [
      "Epoch 1/100\n",
      "17/17 [==============================] - 2s 106ms/step - loss: 2.3687 - accuracy: 0.1667 - val_loss: 1.8994 - val_accuracy: 0.1667\n",
      "Epoch 2/100\n",
      "17/17 [==============================] - 2s 96ms/step - loss: 1.8325 - accuracy: 0.1620 - val_loss: 1.7930 - val_accuracy: 0.1750\n",
      "Epoch 3/100\n",
      "17/17 [==============================] - 2s 96ms/step - loss: 1.7924 - accuracy: 0.1731 - val_loss: 1.7905 - val_accuracy: 0.1917\n",
      "Epoch 4/100\n",
      "17/17 [==============================] - 2s 95ms/step - loss: 1.7879 - accuracy: 0.2083 - val_loss: 1.7876 - val_accuracy: 0.1583\n",
      "Epoch 5/100\n",
      "17/17 [==============================] - 2s 100ms/step - loss: 1.7861 - accuracy: 0.2000 - val_loss: 1.7854 - val_accuracy: 0.2000\n",
      "Epoch 6/100\n",
      "17/17 [==============================] - 2s 100ms/step - loss: 1.7844 - accuracy: 0.2352 - val_loss: 1.7837 - val_accuracy: 0.2083\n",
      "Epoch 7/100\n",
      "17/17 [==============================] - 2s 95ms/step - loss: 1.7830 - accuracy: 0.2380 - val_loss: 1.7823 - val_accuracy: 0.1917\n",
      "Epoch 8/100\n",
      "17/17 [==============================] - 2s 100ms/step - loss: 1.7815 - accuracy: 0.2528 - val_loss: 1.7803 - val_accuracy: 0.2000\n",
      "Epoch 9/100\n",
      "17/17 [==============================] - 2s 100ms/step - loss: 1.7794 - accuracy: 0.2611 - val_loss: 1.7783 - val_accuracy: 0.2417\n",
      "Epoch 10/100\n",
      "17/17 [==============================] - 2s 95ms/step - loss: 1.7775 - accuracy: 0.2704 - val_loss: 1.7765 - val_accuracy: 0.2250\n",
      "Epoch 11/100\n",
      "17/17 [==============================] - 2s 100ms/step - loss: 1.7756 - accuracy: 0.2806 - val_loss: 1.7745 - val_accuracy: 0.2250\n",
      "Epoch 12/100\n",
      "17/17 [==============================] - 2s 100ms/step - loss: 1.7733 - accuracy: 0.2861 - val_loss: 1.7717 - val_accuracy: 0.2417\n",
      "Epoch 13/100\n",
      "17/17 [==============================] - 2s 100ms/step - loss: 1.7708 - accuracy: 0.2954 - val_loss: 1.7688 - val_accuracy: 0.2667\n",
      "Epoch 14/100\n",
      "17/17 [==============================] - 2s 100ms/step - loss: 1.7671 - accuracy: 0.2917 - val_loss: 1.7646 - val_accuracy: 0.2833\n",
      "Epoch 15/100\n",
      "17/17 [==============================] - 2s 100ms/step - loss: 1.7628 - accuracy: 0.2972 - val_loss: 1.7602 - val_accuracy: 0.3250\n",
      "Epoch 16/100\n",
      "17/17 [==============================] - 2s 100ms/step - loss: 1.7570 - accuracy: 0.3130 - val_loss: 1.7540 - val_accuracy: 0.3250\n",
      "Epoch 17/100\n",
      "17/17 [==============================] - 2s 100ms/step - loss: 1.7502 - accuracy: 0.3222 - val_loss: 1.7480 - val_accuracy: 0.3250\n",
      "Epoch 18/100\n",
      "17/17 [==============================] - 2s 100ms/step - loss: 1.7418 - accuracy: 0.3491 - val_loss: 1.7396 - val_accuracy: 0.3583\n",
      "Epoch 19/100\n",
      "17/17 [==============================] - 2s 100ms/step - loss: 1.7317 - accuracy: 0.3454 - val_loss: 1.7300 - val_accuracy: 0.3583\n",
      "Epoch 20/100\n",
      "17/17 [==============================] - 2s 100ms/step - loss: 1.7192 - accuracy: 0.3667 - val_loss: 1.7191 - val_accuracy: 0.3917\n",
      "Epoch 21/100\n",
      "17/17 [==============================] - 2s 100ms/step - loss: 1.7044 - accuracy: 0.3796 - val_loss: 1.7081 - val_accuracy: 0.3750\n",
      "Epoch 22/100\n",
      "17/17 [==============================] - 2s 100ms/step - loss: 1.6886 - accuracy: 0.3833 - val_loss: 1.6927 - val_accuracy: 0.3917\n",
      "Epoch 23/100\n",
      "17/17 [==============================] - 2s 100ms/step - loss: 1.6696 - accuracy: 0.3824 - val_loss: 1.6779 - val_accuracy: 0.3917\n",
      "Epoch 24/100\n",
      "17/17 [==============================] - 2s 100ms/step - loss: 1.6498 - accuracy: 0.3824 - val_loss: 1.6639 - val_accuracy: 0.3667\n",
      "Epoch 25/100\n",
      "17/17 [==============================] - 2s 100ms/step - loss: 1.6301 - accuracy: 0.3750 - val_loss: 1.6448 - val_accuracy: 0.3750\n",
      "Epoch 26/100\n",
      "17/17 [==============================] - 2s 100ms/step - loss: 1.6074 - accuracy: 0.3787 - val_loss: 1.6264 - val_accuracy: 0.3833\n",
      "Epoch 27/100\n",
      "17/17 [==============================] - 2s 100ms/step - loss: 1.5852 - accuracy: 0.3861 - val_loss: 1.6097 - val_accuracy: 0.3750\n",
      "Epoch 28/100\n",
      "17/17 [==============================] - 2s 96ms/step - loss: 1.5635 - accuracy: 0.3870 - val_loss: 1.5883 - val_accuracy: 0.3917\n",
      "Epoch 29/100\n",
      "17/17 [==============================] - 2s 100ms/step - loss: 1.5413 - accuracy: 0.3991 - val_loss: 1.5704 - val_accuracy: 0.3833\n",
      "Epoch 30/100\n",
      "17/17 [==============================] - 2s 100ms/step - loss: 1.5213 - accuracy: 0.4130 - val_loss: 1.5504 - val_accuracy: 0.3667\n",
      "Epoch 31/100\n",
      "17/17 [==============================] - 2s 100ms/step - loss: 1.5003 - accuracy: 0.4130 - val_loss: 1.5346 - val_accuracy: 0.3583\n",
      "Epoch 32/100\n",
      "17/17 [==============================] - 2s 96ms/step - loss: 1.4811 - accuracy: 0.4241 - val_loss: 1.5158 - val_accuracy: 0.3750\n",
      "Epoch 33/100\n",
      "17/17 [==============================] - 2s 96ms/step - loss: 1.4627 - accuracy: 0.4361 - val_loss: 1.4982 - val_accuracy: 0.3750\n",
      "Epoch 34/100\n",
      "17/17 [==============================] - 2s 100ms/step - loss: 1.4444 - accuracy: 0.4444 - val_loss: 1.4822 - val_accuracy: 0.3750\n",
      "Epoch 35/100\n",
      "17/17 [==============================] - 2s 96ms/step - loss: 1.4272 - accuracy: 0.4519 - val_loss: 1.4656 - val_accuracy: 0.3917\n",
      "Epoch 36/100\n",
      "17/17 [==============================] - 2s 96ms/step - loss: 1.4112 - accuracy: 0.4639 - val_loss: 1.4504 - val_accuracy: 0.3917\n",
      "Epoch 37/100\n",
      "17/17 [==============================] - 2s 96ms/step - loss: 1.3948 - accuracy: 0.4750 - val_loss: 1.4351 - val_accuracy: 0.4167\n",
      "Epoch 38/100\n",
      "17/17 [==============================] - 2s 96ms/step - loss: 1.3788 - accuracy: 0.4880 - val_loss: 1.4175 - val_accuracy: 0.4500\n",
      "Epoch 39/100\n",
      "17/17 [==============================] - 2s 95ms/step - loss: 1.3631 - accuracy: 0.5046 - val_loss: 1.4020 - val_accuracy: 0.4833\n",
      "Epoch 40/100\n",
      "17/17 [==============================] - 2s 95ms/step - loss: 1.3477 - accuracy: 0.5102 - val_loss: 1.3847 - val_accuracy: 0.4833\n",
      "Epoch 41/100\n",
      "17/17 [==============================] - 2s 100ms/step - loss: 1.3321 - accuracy: 0.5194 - val_loss: 1.3697 - val_accuracy: 0.4750\n",
      "Epoch 42/100\n",
      "17/17 [==============================] - 2s 100ms/step - loss: 1.3170 - accuracy: 0.5204 - val_loss: 1.3534 - val_accuracy: 0.4750\n",
      "Epoch 43/100\n",
      "17/17 [==============================] - 2s 100ms/step - loss: 1.3020 - accuracy: 0.5231 - val_loss: 1.3376 - val_accuracy: 0.4833\n",
      "Epoch 44/100\n",
      "17/17 [==============================] - 2s 100ms/step - loss: 1.2869 - accuracy: 0.5306 - val_loss: 1.3194 - val_accuracy: 0.4667\n",
      "Epoch 45/100\n",
      "17/17 [==============================] - 2s 100ms/step - loss: 1.2704 - accuracy: 0.5370 - val_loss: 1.2987 - val_accuracy: 0.4667\n",
      "Epoch 46/100\n",
      "17/17 [==============================] - 2s 100ms/step - loss: 1.2530 - accuracy: 0.5519 - val_loss: 1.2760 - val_accuracy: 0.4917\n",
      "Epoch 47/100\n",
      "17/17 [==============================] - 2s 100ms/step - loss: 1.2343 - accuracy: 0.5620 - val_loss: 1.2575 - val_accuracy: 0.5167\n",
      "Epoch 48/100\n",
      "17/17 [==============================] - 2s 100ms/step - loss: 1.2155 - accuracy: 0.5667 - val_loss: 1.2377 - val_accuracy: 0.5250\n",
      "Epoch 49/100\n",
      "17/17 [==============================] - 2s 100ms/step - loss: 1.1982 - accuracy: 0.5787 - val_loss: 1.2215 - val_accuracy: 0.5417\n",
      "Epoch 50/100\n",
      "17/17 [==============================] - 2s 100ms/step - loss: 1.1799 - accuracy: 0.5870 - val_loss: 1.1981 - val_accuracy: 0.5500\n",
      "Epoch 51/100\n",
      "17/17 [==============================] - 2s 100ms/step - loss: 1.1609 - accuracy: 0.5935 - val_loss: 1.1796 - val_accuracy: 0.5583\n",
      "Epoch 52/100\n",
      "17/17 [==============================] - 2s 100ms/step - loss: 1.1423 - accuracy: 0.6065 - val_loss: 1.1587 - val_accuracy: 0.5750\n",
      "Epoch 53/100\n",
      "17/17 [==============================] - 2s 100ms/step - loss: 1.1233 - accuracy: 0.6157 - val_loss: 1.1402 - val_accuracy: 0.5917\n",
      "Epoch 54/100\n",
      "17/17 [==============================] - 2s 96ms/step - loss: 1.1048 - accuracy: 0.6222 - val_loss: 1.1203 - val_accuracy: 0.6083\n",
      "Epoch 55/100\n",
      "17/17 [==============================] - 2s 100ms/step - loss: 1.0838 - accuracy: 0.6315 - val_loss: 1.1029 - val_accuracy: 0.6167\n",
      "Epoch 56/100\n",
      "17/17 [==============================] - 2s 100ms/step - loss: 1.0631 - accuracy: 0.6343 - val_loss: 1.0852 - val_accuracy: 0.6333\n",
      "Epoch 57/100\n",
      "17/17 [==============================] - 2s 100ms/step - loss: 1.0446 - accuracy: 0.6426 - val_loss: 1.0655 - val_accuracy: 0.6250\n",
      "Epoch 58/100\n",
      "17/17 [==============================] - 2s 100ms/step - loss: 1.0265 - accuracy: 0.6565 - val_loss: 1.0485 - val_accuracy: 0.6167\n",
      "Epoch 59/100\n",
      "17/17 [==============================] - 2s 100ms/step - loss: 1.0074 - accuracy: 0.6602 - val_loss: 1.0303 - val_accuracy: 0.6250\n",
      "Epoch 60/100\n",
      "17/17 [==============================] - 2s 100ms/step - loss: 0.9905 - accuracy: 0.6667 - val_loss: 1.0156 - val_accuracy: 0.6250\n",
      "Epoch 61/100\n",
      "17/17 [==============================] - 2s 100ms/step - loss: 0.9728 - accuracy: 0.6731 - val_loss: 1.0000 - val_accuracy: 0.6333\n",
      "Epoch 62/100\n",
      "17/17 [==============================] - 2s 100ms/step - loss: 0.9567 - accuracy: 0.6741 - val_loss: 0.9850 - val_accuracy: 0.6417\n",
      "Epoch 63/100\n",
      "17/17 [==============================] - 2s 100ms/step - loss: 0.9412 - accuracy: 0.6778 - val_loss: 0.9709 - val_accuracy: 0.6500\n",
      "Epoch 64/100\n",
      "17/17 [==============================] - 2s 100ms/step - loss: 0.9258 - accuracy: 0.6824 - val_loss: 0.9568 - val_accuracy: 0.6583\n",
      "Epoch 65/100\n",
      "17/17 [==============================] - 2s 100ms/step - loss: 0.9115 - accuracy: 0.6889 - val_loss: 0.9450 - val_accuracy: 0.6583\n",
      "Epoch 66/100\n",
      "17/17 [==============================] - 2s 100ms/step - loss: 0.8974 - accuracy: 0.6963 - val_loss: 0.9332 - val_accuracy: 0.6583\n",
      "Epoch 67/100\n",
      "17/17 [==============================] - 2s 100ms/step - loss: 0.8844 - accuracy: 0.6981 - val_loss: 0.9222 - val_accuracy: 0.6667\n",
      "Epoch 68/100\n",
      "17/17 [==============================] - 2s 100ms/step - loss: 0.8725 - accuracy: 0.6954 - val_loss: 0.9127 - val_accuracy: 0.6667\n",
      "Epoch 69/100\n",
      "17/17 [==============================] - 2s 100ms/step - loss: 0.8598 - accuracy: 0.7019 - val_loss: 0.9020 - val_accuracy: 0.6667\n",
      "Epoch 70/100\n",
      "17/17 [==============================] - 2s 100ms/step - loss: 0.8476 - accuracy: 0.7056 - val_loss: 0.8919 - val_accuracy: 0.6750\n",
      "Epoch 71/100\n",
      "17/17 [==============================] - 2s 100ms/step - loss: 0.8361 - accuracy: 0.7056 - val_loss: 0.8825 - val_accuracy: 0.6833\n",
      "Epoch 72/100\n",
      "17/17 [==============================] - 2s 100ms/step - loss: 0.8264 - accuracy: 0.7056 - val_loss: 0.8744 - val_accuracy: 0.6833\n",
      "Epoch 73/100\n",
      "17/17 [==============================] - 2s 100ms/step - loss: 0.8167 - accuracy: 0.7083 - val_loss: 0.8659 - val_accuracy: 0.6833\n",
      "Epoch 74/100\n",
      "17/17 [==============================] - 2s 100ms/step - loss: 0.8059 - accuracy: 0.7148 - val_loss: 0.8587 - val_accuracy: 0.6750\n",
      "Epoch 75/100\n",
      "17/17 [==============================] - 2s 100ms/step - loss: 0.7965 - accuracy: 0.7157 - val_loss: 0.8507 - val_accuracy: 0.6750\n",
      "Epoch 76/100\n",
      "17/17 [==============================] - 2s 100ms/step - loss: 0.7873 - accuracy: 0.7185 - val_loss: 0.8430 - val_accuracy: 0.6833\n",
      "Epoch 77/100\n",
      "17/17 [==============================] - 2s 100ms/step - loss: 0.7793 - accuracy: 0.7194 - val_loss: 0.8371 - val_accuracy: 0.6833\n",
      "Epoch 78/100\n",
      "17/17 [==============================] - 2s 100ms/step - loss: 0.7709 - accuracy: 0.7204 - val_loss: 0.8290 - val_accuracy: 0.6833\n",
      "Epoch 79/100\n",
      "17/17 [==============================] - 2s 100ms/step - loss: 0.7624 - accuracy: 0.7269 - val_loss: 0.8230 - val_accuracy: 0.6833\n",
      "Epoch 80/100\n",
      "17/17 [==============================] - 2s 100ms/step - loss: 0.7551 - accuracy: 0.7287 - val_loss: 0.8166 - val_accuracy: 0.6833\n",
      "Epoch 81/100\n",
      "17/17 [==============================] - 2s 99ms/step - loss: 0.7470 - accuracy: 0.7343 - val_loss: 0.8094 - val_accuracy: 0.7000\n",
      "Epoch 82/100\n",
      "17/17 [==============================] - 2s 100ms/step - loss: 0.7402 - accuracy: 0.7398 - val_loss: 0.8041 - val_accuracy: 0.7000\n",
      "Epoch 83/100\n",
      "17/17 [==============================] - 2s 95ms/step - loss: 0.7340 - accuracy: 0.7407 - val_loss: 0.7988 - val_accuracy: 0.7000\n",
      "Epoch 84/100\n",
      "17/17 [==============================] - 2s 100ms/step - loss: 0.7267 - accuracy: 0.7398 - val_loss: 0.7927 - val_accuracy: 0.7000\n",
      "Epoch 85/100\n",
      "17/17 [==============================] - 2s 100ms/step - loss: 0.7190 - accuracy: 0.7435 - val_loss: 0.7859 - val_accuracy: 0.7000\n",
      "Epoch 86/100\n",
      "17/17 [==============================] - 2s 100ms/step - loss: 0.7137 - accuracy: 0.7491 - val_loss: 0.7810 - val_accuracy: 0.7083\n",
      "Epoch 87/100\n",
      "17/17 [==============================] - 2s 95ms/step - loss: 0.7087 - accuracy: 0.7435 - val_loss: 0.7766 - val_accuracy: 0.7167\n",
      "Epoch 88/100\n",
      "17/17 [==============================] - 2s 95ms/step - loss: 0.7005 - accuracy: 0.7500 - val_loss: 0.7697 - val_accuracy: 0.7250\n",
      "Epoch 89/100\n",
      "17/17 [==============================] - 2s 100ms/step - loss: 0.6930 - accuracy: 0.7528 - val_loss: 0.7638 - val_accuracy: 0.7250\n",
      "Epoch 90/100\n",
      "17/17 [==============================] - 2s 100ms/step - loss: 0.6883 - accuracy: 0.7565 - val_loss: 0.7602 - val_accuracy: 0.7250\n",
      "Epoch 91/100\n",
      "17/17 [==============================] - 2s 100ms/step - loss: 0.6830 - accuracy: 0.7574 - val_loss: 0.7555 - val_accuracy: 0.7333\n",
      "Epoch 92/100\n",
      "17/17 [==============================] - 2s 100ms/step - loss: 0.6764 - accuracy: 0.7620 - val_loss: 0.7495 - val_accuracy: 0.7333\n",
      "Epoch 93/100\n",
      "17/17 [==============================] - 2s 100ms/step - loss: 0.6697 - accuracy: 0.7639 - val_loss: 0.7434 - val_accuracy: 0.7417\n",
      "Epoch 94/100\n",
      "17/17 [==============================] - 2s 96ms/step - loss: 0.6659 - accuracy: 0.7685 - val_loss: 0.7408 - val_accuracy: 0.7583\n",
      "Epoch 95/100\n",
      "17/17 [==============================] - 2s 100ms/step - loss: 0.6607 - accuracy: 0.7685 - val_loss: 0.7364 - val_accuracy: 0.7667\n",
      "Epoch 96/100\n",
      "17/17 [==============================] - 2s 100ms/step - loss: 0.6542 - accuracy: 0.7722 - val_loss: 0.7303 - val_accuracy: 0.7583\n",
      "Epoch 97/100\n",
      "17/17 [==============================] - 2s 100ms/step - loss: 0.6479 - accuracy: 0.7769 - val_loss: 0.7242 - val_accuracy: 0.7667\n",
      "Epoch 98/100\n",
      "17/17 [==============================] - 2s 100ms/step - loss: 0.6444 - accuracy: 0.7796 - val_loss: 0.7230 - val_accuracy: 0.7500\n",
      "Epoch 99/100\n",
      "17/17 [==============================] - 2s 100ms/step - loss: 0.6401 - accuracy: 0.7824 - val_loss: 0.7196 - val_accuracy: 0.7750\n",
      "Epoch 100/100\n",
      "17/17 [==============================] - 2s 100ms/step - loss: 0.6342 - accuracy: 0.7870 - val_loss: 0.7127 - val_accuracy: 0.7750\n"
     ]
    }
   ],
   "source": [
    "train_dataset = tf.data.Dataset.from_tensor_slices((X_train, Y_train)).batch(64)\n",
    "test_dataset = tf.data.Dataset.from_tensor_slices((X_test, Y_test)).batch(64)\n",
    "history = conv_model.fit(train_dataset, epochs=100, validation_data=test_dataset)"
   ]
  },
  {
   "cell_type": "markdown",
   "metadata": {},
   "source": [
    "<a name='5'></a>\n",
    "## 5 - History Object \n",
    "\n",
    "The history object is an output of the `.fit()` operation, and provides a record of all the loss and metric values in memory. It's stored as a dictionary that you can retrieve at `history.history`: "
   ]
  },
  {
   "cell_type": "code",
   "execution_count": 16,
   "metadata": {},
   "outputs": [
    {
     "data": {
      "text/plain": [
       "{'loss': [2.3686957359313965,\n",
       "  1.8325245380401611,\n",
       "  1.792418360710144,\n",
       "  1.7879308462142944,\n",
       "  1.7861391305923462,\n",
       "  1.7843732833862305,\n",
       "  1.783007025718689,\n",
       "  1.7815159559249878,\n",
       "  1.7794002294540405,\n",
       "  1.7775245904922485,\n",
       "  1.7756074666976929,\n",
       "  1.7733361721038818,\n",
       "  1.7707736492156982,\n",
       "  1.7671269178390503,\n",
       "  1.7628456354141235,\n",
       "  1.7570387125015259,\n",
       "  1.7501795291900635,\n",
       "  1.7417829036712646,\n",
       "  1.7316625118255615,\n",
       "  1.7192113399505615,\n",
       "  1.7043825387954712,\n",
       "  1.6885969638824463,\n",
       "  1.6696338653564453,\n",
       "  1.649823784828186,\n",
       "  1.6300685405731201,\n",
       "  1.6074186563491821,\n",
       "  1.585245966911316,\n",
       "  1.5635279417037964,\n",
       "  1.5412944555282593,\n",
       "  1.5212681293487549,\n",
       "  1.5002758502960205,\n",
       "  1.4810978174209595,\n",
       "  1.462672233581543,\n",
       "  1.4443649053573608,\n",
       "  1.427182674407959,\n",
       "  1.4111827611923218,\n",
       "  1.394760012626648,\n",
       "  1.3788102865219116,\n",
       "  1.3630603551864624,\n",
       "  1.3477272987365723,\n",
       "  1.3321261405944824,\n",
       "  1.31698477268219,\n",
       "  1.302001953125,\n",
       "  1.2869186401367188,\n",
       "  1.2704472541809082,\n",
       "  1.252977967262268,\n",
       "  1.234282374382019,\n",
       "  1.215545654296875,\n",
       "  1.19822359085083,\n",
       "  1.1799461841583252,\n",
       "  1.1609259843826294,\n",
       "  1.1423277854919434,\n",
       "  1.1233247518539429,\n",
       "  1.104793906211853,\n",
       "  1.083796501159668,\n",
       "  1.0631102323532104,\n",
       "  1.0446451902389526,\n",
       "  1.0265185832977295,\n",
       "  1.0073813199996948,\n",
       "  0.9904743432998657,\n",
       "  0.9728333353996277,\n",
       "  0.9567036032676697,\n",
       "  0.9412213563919067,\n",
       "  0.9258246421813965,\n",
       "  0.9114704132080078,\n",
       "  0.8974446654319763,\n",
       "  0.8844151496887207,\n",
       "  0.8724772334098816,\n",
       "  0.8597626090049744,\n",
       "  0.8475714921951294,\n",
       "  0.8360797166824341,\n",
       "  0.8263781666755676,\n",
       "  0.8167492151260376,\n",
       "  0.8059045076370239,\n",
       "  0.7964628338813782,\n",
       "  0.7873360514640808,\n",
       "  0.779261589050293,\n",
       "  0.7709221243858337,\n",
       "  0.7623510360717773,\n",
       "  0.7551195621490479,\n",
       "  0.7469988465309143,\n",
       "  0.7401571869850159,\n",
       "  0.7339790463447571,\n",
       "  0.7266731262207031,\n",
       "  0.719021737575531,\n",
       "  0.7136918902397156,\n",
       "  0.7087469696998596,\n",
       "  0.700494647026062,\n",
       "  0.6930462121963501,\n",
       "  0.6883320212364197,\n",
       "  0.6829696297645569,\n",
       "  0.6764122247695923,\n",
       "  0.6696646213531494,\n",
       "  0.6659306287765503,\n",
       "  0.6607292294502258,\n",
       "  0.6542044281959534,\n",
       "  0.6478988528251648,\n",
       "  0.6444106101989746,\n",
       "  0.6400533318519592,\n",
       "  0.6341913938522339],\n",
       " 'accuracy': [0.1666666716337204,\n",
       "  0.16203702986240387,\n",
       "  0.17314815521240234,\n",
       "  0.2083333283662796,\n",
       "  0.20000000298023224,\n",
       "  0.2351851910352707,\n",
       "  0.23796296119689941,\n",
       "  0.2527777850627899,\n",
       "  0.2611111104488373,\n",
       "  0.27037036418914795,\n",
       "  0.2805555462837219,\n",
       "  0.28611111640930176,\n",
       "  0.2953703701496124,\n",
       "  0.2916666567325592,\n",
       "  0.29722222685813904,\n",
       "  0.31296294927597046,\n",
       "  0.3222222328186035,\n",
       "  0.3490740656852722,\n",
       "  0.3453703820705414,\n",
       "  0.36666667461395264,\n",
       "  0.37962964177131653,\n",
       "  0.38333332538604736,\n",
       "  0.38240739703178406,\n",
       "  0.38240739703178406,\n",
       "  0.375,\n",
       "  0.3787037134170532,\n",
       "  0.3861111104488373,\n",
       "  0.3870370388031006,\n",
       "  0.39907407760620117,\n",
       "  0.41296297311782837,\n",
       "  0.41296297311782837,\n",
       "  0.42407408356666565,\n",
       "  0.43611112236976624,\n",
       "  0.4444444477558136,\n",
       "  0.45185184478759766,\n",
       "  0.46388888359069824,\n",
       "  0.4749999940395355,\n",
       "  0.4879629611968994,\n",
       "  0.5046296119689941,\n",
       "  0.510185182094574,\n",
       "  0.519444465637207,\n",
       "  0.520370364189148,\n",
       "  0.5231481194496155,\n",
       "  0.5305555462837219,\n",
       "  0.5370370149612427,\n",
       "  0.5518518686294556,\n",
       "  0.5620370507240295,\n",
       "  0.5666666626930237,\n",
       "  0.5787037014961243,\n",
       "  0.5870370268821716,\n",
       "  0.5935184955596924,\n",
       "  0.6064814925193787,\n",
       "  0.6157407164573669,\n",
       "  0.6222222447395325,\n",
       "  0.6314814686775208,\n",
       "  0.6342592835426331,\n",
       "  0.6425926089286804,\n",
       "  0.6564815044403076,\n",
       "  0.6601851582527161,\n",
       "  0.6666666865348816,\n",
       "  0.6731481552124023,\n",
       "  0.6740740537643433,\n",
       "  0.6777777671813965,\n",
       "  0.6824073791503906,\n",
       "  0.6888889074325562,\n",
       "  0.6962962746620178,\n",
       "  0.6981481313705444,\n",
       "  0.6953703761100769,\n",
       "  0.7018518447875977,\n",
       "  0.7055555582046509,\n",
       "  0.7055555582046509,\n",
       "  0.7055555582046509,\n",
       "  0.7083333134651184,\n",
       "  0.7148148417472839,\n",
       "  0.7157407402992249,\n",
       "  0.7185184955596924,\n",
       "  0.7194444537162781,\n",
       "  0.720370352268219,\n",
       "  0.7268518805503845,\n",
       "  0.7287036776542664,\n",
       "  0.7342592477798462,\n",
       "  0.739814817905426,\n",
       "  0.7407407164573669,\n",
       "  0.739814817905426,\n",
       "  0.7435185313224792,\n",
       "  0.7490741014480591,\n",
       "  0.7435185313224792,\n",
       "  0.75,\n",
       "  0.7527777552604675,\n",
       "  0.7564814686775208,\n",
       "  0.7574074268341064,\n",
       "  0.7620370388031006,\n",
       "  0.7638888955116272,\n",
       "  0.7685185074806213,\n",
       "  0.7685185074806213,\n",
       "  0.7722222208976746,\n",
       "  0.7768518328666687,\n",
       "  0.779629647731781,\n",
       "  0.7824074029922485,\n",
       "  0.7870370149612427],\n",
       " 'val_loss': [1.8994011878967285,\n",
       "  1.792980670928955,\n",
       "  1.7905093431472778,\n",
       "  1.7875889539718628,\n",
       "  1.7854468822479248,\n",
       "  1.7837295532226562,\n",
       "  1.7823028564453125,\n",
       "  1.7803456783294678,\n",
       "  1.7783195972442627,\n",
       "  1.776471495628357,\n",
       "  1.7744544744491577,\n",
       "  1.7716879844665527,\n",
       "  1.768798589706421,\n",
       "  1.7645820379257202,\n",
       "  1.760180115699768,\n",
       "  1.753953456878662,\n",
       "  1.7480231523513794,\n",
       "  1.7395564317703247,\n",
       "  1.7299648523330688,\n",
       "  1.7190735340118408,\n",
       "  1.7080533504486084,\n",
       "  1.6927326917648315,\n",
       "  1.6778606176376343,\n",
       "  1.6638610363006592,\n",
       "  1.6448379755020142,\n",
       "  1.6264424324035645,\n",
       "  1.6097222566604614,\n",
       "  1.5883244276046753,\n",
       "  1.5704200267791748,\n",
       "  1.5503578186035156,\n",
       "  1.5346490144729614,\n",
       "  1.5158017873764038,\n",
       "  1.4982401132583618,\n",
       "  1.4821950197219849,\n",
       "  1.4656482934951782,\n",
       "  1.4504016637802124,\n",
       "  1.4351390600204468,\n",
       "  1.4175158739089966,\n",
       "  1.402008056640625,\n",
       "  1.3847315311431885,\n",
       "  1.3696823120117188,\n",
       "  1.3533508777618408,\n",
       "  1.3375781774520874,\n",
       "  1.3193542957305908,\n",
       "  1.298662543296814,\n",
       "  1.2759673595428467,\n",
       "  1.2574741840362549,\n",
       "  1.237687587738037,\n",
       "  1.2215189933776855,\n",
       "  1.1981416940689087,\n",
       "  1.1796081066131592,\n",
       "  1.158676028251648,\n",
       "  1.1402480602264404,\n",
       "  1.1203488111495972,\n",
       "  1.10293710231781,\n",
       "  1.0851854085922241,\n",
       "  1.065507411956787,\n",
       "  1.048534631729126,\n",
       "  1.0302739143371582,\n",
       "  1.015623927116394,\n",
       "  1.0000126361846924,\n",
       "  0.984978437423706,\n",
       "  0.970922589302063,\n",
       "  0.9568168520927429,\n",
       "  0.9449535012245178,\n",
       "  0.9331791400909424,\n",
       "  0.9221707582473755,\n",
       "  0.9126767516136169,\n",
       "  0.901986837387085,\n",
       "  0.891875684261322,\n",
       "  0.8824971318244934,\n",
       "  0.8743752837181091,\n",
       "  0.8658552765846252,\n",
       "  0.8586940765380859,\n",
       "  0.8506633639335632,\n",
       "  0.8429840207099915,\n",
       "  0.8370707035064697,\n",
       "  0.8290297985076904,\n",
       "  0.8229724764823914,\n",
       "  0.8165953159332275,\n",
       "  0.8093820214271545,\n",
       "  0.8040929436683655,\n",
       "  0.7987595796585083,\n",
       "  0.7926830053329468,\n",
       "  0.7859135866165161,\n",
       "  0.7810001373291016,\n",
       "  0.7766309380531311,\n",
       "  0.7697008848190308,\n",
       "  0.763824462890625,\n",
       "  0.7601957321166992,\n",
       "  0.7555293440818787,\n",
       "  0.7495129704475403,\n",
       "  0.7434398531913757,\n",
       "  0.7407829761505127,\n",
       "  0.7363898754119873,\n",
       "  0.7303464412689209,\n",
       "  0.7242445349693298,\n",
       "  0.723018229007721,\n",
       "  0.7196170687675476,\n",
       "  0.7127130031585693],\n",
       " 'val_accuracy': [0.1666666716337204,\n",
       "  0.17499999701976776,\n",
       "  0.19166666269302368,\n",
       "  0.15833333134651184,\n",
       "  0.20000000298023224,\n",
       "  0.2083333283662796,\n",
       "  0.19166666269302368,\n",
       "  0.20000000298023224,\n",
       "  0.24166665971279144,\n",
       "  0.22499999403953552,\n",
       "  0.22499999403953552,\n",
       "  0.24166665971279144,\n",
       "  0.2666666805744171,\n",
       "  0.28333333134651184,\n",
       "  0.32499998807907104,\n",
       "  0.32499998807907104,\n",
       "  0.32499998807907104,\n",
       "  0.3583333194255829,\n",
       "  0.3583333194255829,\n",
       "  0.3916666805744171,\n",
       "  0.375,\n",
       "  0.3916666805744171,\n",
       "  0.3916666805744171,\n",
       "  0.36666667461395264,\n",
       "  0.375,\n",
       "  0.38333332538604736,\n",
       "  0.375,\n",
       "  0.3916666805744171,\n",
       "  0.38333332538604736,\n",
       "  0.36666667461395264,\n",
       "  0.3583333194255829,\n",
       "  0.375,\n",
       "  0.375,\n",
       "  0.375,\n",
       "  0.3916666805744171,\n",
       "  0.3916666805744171,\n",
       "  0.4166666567325592,\n",
       "  0.44999998807907104,\n",
       "  0.4833333194255829,\n",
       "  0.4833333194255829,\n",
       "  0.4749999940395355,\n",
       "  0.4749999940395355,\n",
       "  0.4833333194255829,\n",
       "  0.46666666865348816,\n",
       "  0.46666666865348816,\n",
       "  0.49166667461395264,\n",
       "  0.5166666507720947,\n",
       "  0.5249999761581421,\n",
       "  0.5416666865348816,\n",
       "  0.550000011920929,\n",
       "  0.5583333373069763,\n",
       "  0.574999988079071,\n",
       "  0.5916666388511658,\n",
       "  0.6083333492279053,\n",
       "  0.6166666746139526,\n",
       "  0.6333333253860474,\n",
       "  0.625,\n",
       "  0.6166666746139526,\n",
       "  0.625,\n",
       "  0.625,\n",
       "  0.6333333253860474,\n",
       "  0.6416666507720947,\n",
       "  0.6499999761581421,\n",
       "  0.6583333611488342,\n",
       "  0.6583333611488342,\n",
       "  0.6583333611488342,\n",
       "  0.6666666865348816,\n",
       "  0.6666666865348816,\n",
       "  0.6666666865348816,\n",
       "  0.675000011920929,\n",
       "  0.6833333373069763,\n",
       "  0.6833333373069763,\n",
       "  0.6833333373069763,\n",
       "  0.675000011920929,\n",
       "  0.675000011920929,\n",
       "  0.6833333373069763,\n",
       "  0.6833333373069763,\n",
       "  0.6833333373069763,\n",
       "  0.6833333373069763,\n",
       "  0.6833333373069763,\n",
       "  0.699999988079071,\n",
       "  0.699999988079071,\n",
       "  0.699999988079071,\n",
       "  0.699999988079071,\n",
       "  0.699999988079071,\n",
       "  0.7083333134651184,\n",
       "  0.7166666388511658,\n",
       "  0.7250000238418579,\n",
       "  0.7250000238418579,\n",
       "  0.7250000238418579,\n",
       "  0.7333333492279053,\n",
       "  0.7333333492279053,\n",
       "  0.7416666746139526,\n",
       "  0.7583333253860474,\n",
       "  0.7666666507720947,\n",
       "  0.7583333253860474,\n",
       "  0.7666666507720947,\n",
       "  0.75,\n",
       "  0.7749999761581421,\n",
       "  0.7749999761581421]}"
      ]
     },
     "execution_count": 16,
     "metadata": {},
     "output_type": "execute_result"
    }
   ],
   "source": [
    "history.history"
   ]
  },
  {
   "cell_type": "markdown",
   "metadata": {},
   "source": [
    "Now visualize the loss over time using `history.history`: "
   ]
  },
  {
   "cell_type": "code",
   "execution_count": 17,
   "metadata": {},
   "outputs": [
    {
     "data": {
      "text/plain": [
       "[Text(0, 0.5, 'Accuracy'), Text(0.5, 0, 'Epoch')]"
      ]
     },
     "execution_count": 17,
     "metadata": {},
     "output_type": "execute_result"
    },
    {
     "data": {
      "image/png": "[encoded data removed]",
      "text/plain": [
       "<Figure size 864x576 with 1 Axes>"
      ]
     },
     "metadata": {
      "needs_background": "light"
     },
     "output_type": "display_data"
    },
    {
     "data": {
      "image/png": "[encoded data removed]",
      "text/plain": [
       "<Figure size 864x576 with 1 Axes>"
      ]
     },
     "metadata": {
      "needs_background": "light"
     },
     "output_type": "display_data"
    }
   ],
   "source": [
    "# The history.history[\"loss\"] entry is a dictionary with as many values as epochs that the\n",
    "# model was trained on. \n",
    "df_loss_acc = pd.DataFrame(history.history)\n",
    "df_loss= df_loss_acc[['loss','val_loss']]\n",
    "df_loss.rename(columns={'loss':'train','val_loss':'validation'},inplace=True)\n",
    "df_acc= df_loss_acc[['accuracy','val_accuracy']]\n",
    "df_acc.rename(columns={'accuracy':'train','val_accuracy':'validation'},inplace=True)\n",
    "df_loss.plot(title='Model loss',figsize=(12,8)).set(xlabel='Epoch',ylabel='Loss')\n",
    "df_acc.plot(title='Model Accuracy',figsize=(12,8)).set(xlabel='Epoch',ylabel='Accuracy')"
   ]
  },
  {
   "cell_type": "markdown",
   "metadata": {},
   "source": [
    "**Congratulations**! You've finished the assignment and built two models: One that recognizes  smiles, and another that recognizes SIGN language with almost 80% accuracy on the test set. In addition to that, you now also understand the applications of two Keras APIs: Sequential and Functional. Nicely done! \n",
    "\n",
    "By now, you know a bit about how the Functional API works and may have glimpsed the possibilities. In your next assignment, you'll really get a feel for its power when you get the opportunity to build a very deep ConvNet, using ResNets! "
   ]
  },
  {
   "cell_type": "markdown",
   "metadata": {},
   "source": [
    "<a name='6'></a>\n",
    "## 6 - Bibliography\n",
    "\n",
    "You're always encouraged to read the official documentation. To that end, you can find the docs for the Sequential and Functional APIs here: \n",
    "\n",
    "https://www.tensorflow.org/guide/keras/sequential_model\n",
    "\n",
    "https://www.tensorflow.org/guide/keras/functional"
   ]
  }
 ],
 "metadata": {
  "coursera": {
   "course_slug": "convolutional-neural-networks",
   "graded_item_id": "bwbJV",
   "launcher_item_id": "0TkXB"
  },
  "kernelspec": {
   "display_name": "Python 3",
   "language": "python",
   "name": "python3"
  },
  "language_info": {
   "codemirror_mode": {
    "name": "ipython",
    "version": 3
   },
   "file_extension": ".py",
   "mimetype": "text/x-python",
   "name": "python",
   "nbconvert_exporter": "python",
   "pygments_lexer": "ipython3",
   "version": "3.7.6"
  }
 },
 "nbformat": 4,
 "nbformat_minor": 2
}
